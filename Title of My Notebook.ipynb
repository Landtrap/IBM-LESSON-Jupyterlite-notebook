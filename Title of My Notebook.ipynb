{
  "metadata": {
    "language_info": {
      "codemirror_mode": {
        "name": "python",
        "version": 3
      },
      "file_extension": ".py",
      "mimetype": "text/x-python",
      "name": "python",
      "nbconvert_exporter": "python",
      "pygments_lexer": "ipython3",
      "version": "3.8"
    },
    "kernelspec": {
      "name": "python",
      "display_name": "Python (Pyodide)",
      "language": "python"
    }
  },
  "nbformat_minor": 4,
  "nbformat": 4,
  "cells": [
    {
      "cell_type": "code",
      "source": "# Title of My Notebook",
      "metadata": {
        "trusted": true
      },
      "execution_count": 4,
      "outputs": []
    },
    {
      "cell_type": "code",
      "source": "## Introduction This notebook will explore various aspects of data science including popular languages, libraries, and some simple arithmetic expressions.",
      "metadata": {
        "trusted": true
      },
      "execution_count": 6,
      "outputs": []
    },
    {
      "cell_type": "code",
      "source": "## Data Science Languages - Python - R - SQL - Java - Scala",
      "metadata": {},
      "execution_count": null,
      "outputs": []
    },
    {
      "cell_type": "code",
      "source": "## Data Science Libraries - Panda - NumPy - Scikit-learn - Matplotlib - TensorFlow\n## Data Science Tools\n\n| Tool          | Use Case           |\n|---------------|--------------------|\n| Jupyter      | Data Analysis       |\n| Tableau      | Data Visualization |\n| Hadoop       | Big Data Processing|\n| SQL Server   | Database Management|\n| TensorFlow   | Machine Learning   |\n",
      "metadata": {
        "trusted": true
      },
      "execution_count": 2,
      "outputs": [
        {
          "ename": "<class 'SyntaxError'>",
          "evalue": "invalid syntax (<ipython-input-2-628b089b1153>, line 10)",
          "traceback": [
            "\u001b[0;36m  Cell \u001b[0;32mIn[2], line 10\u001b[0;36m\u001b[0m\n\u001b[0;31m    | Tool          | Use Case           |\u001b[0m\n\u001b[0m    ^\u001b[0m\n\u001b[0;31mSyntaxError\u001b[0m\u001b[0;31m:\u001b[0m invalid syntax\n"
          ],
          "output_type": "error"
        }
      ]
    },
    {
      "cell_type": "code",
      "source": "## Arithmetic in Programming\n\nSimple arithmetic expressions are the foundation of numerical computations in programming. They include operations like addition, subtraction, multiplication, and division.\n",
      "metadata": {},
      "execution_count": null,
      "outputs": []
    },
    {
      "cell_type": "code",
      "source": "# Arithmetic operations\na = 6\nb = 7\n\n# Addition\naddition = a + b\n\n# Multiplication\nmultiplication = a * b\n\naddition, multiplication\n",
      "metadata": {},
      "execution_count": null,
      "outputs": []
    },
    {
      "cell_type": "code",
      "source": "# Conversion of minutes to hours\nminutes = 120\nhours = minutes / 60\nhours\n",
      "metadata": {},
      "execution_count": null,
      "outputs": []
    },
    {
      "cell_type": "code",
      "source": "## Objectives\n\n- To understand the ecosystem of data science tools and languages.\n- To learn about key libraries essential for data science.\n- To perform basic arithmetic operations in coding.\n",
      "metadata": {},
      "execution_count": null,
      "outputs": []
    },
    {
      "cell_type": "code",
      "source": "## Author\n\nCreated by RICARDO YUKIO MATSUO\n",
      "metadata": {},
      "execution_count": null,
      "outputs": []
    }
  ]
}